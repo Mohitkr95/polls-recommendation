{
 "cells": [
  {
   "cell_type": "markdown",
   "id": "572821e6",
   "metadata": {},
   "source": [
    "# Setup"
   ]
  },
  {
   "cell_type": "code",
   "execution_count": null,
   "id": "1edb0db3",
   "metadata": {
    "execution": {
     "iopub.execute_input": "2024-03-24T07:19:27.482445Z",
     "iopub.status.busy": "2024-03-24T07:19:27.482023Z",
     "iopub.status.idle": "2024-03-24T07:19:29.089022Z",
     "shell.execute_reply": "2024-03-24T07:19:29.088183Z"
    },
    "lines_to_next_cell": 2
   },
   "outputs": [],
   "source": [
    "import os\n",
    "import numpy as np\n",
    "import pandas as pd\n",
    "import pickle\n",
    "from skimpy import skim\n",
    "from collections import defaultdict\n",
    "from pandarallel import pandarallel\n",
    "\n",
    "from mlops.evaluate import convert_df_to_dict, eval_add_show\n",
    "from mlops.utils import get_polls_data_from_interaction_data, get_users_data_from_interaction_data"
   ]
  },
  {
   "cell_type": "code",
   "execution_count": null,
   "id": "f21682f0",
   "metadata": {
    "execution": {
     "iopub.execute_input": "2024-03-24T07:19:29.092467Z",
     "iopub.status.busy": "2024-03-24T07:19:29.092153Z",
     "iopub.status.idle": "2024-03-24T07:19:29.095531Z",
     "shell.execute_reply": "2024-03-24T07:19:29.095022Z"
    }
   },
   "outputs": [],
   "source": [
    "from IPython.display import display\n",
    "pd.set_option(\"display.max_rows\", None)\n",
    "pd.set_option(\"display.max_columns\", None)"
   ]
  },
  {
   "cell_type": "code",
   "execution_count": null,
   "id": "8f923790",
   "metadata": {
    "execution": {
     "iopub.execute_input": "2024-03-24T07:19:29.098600Z",
     "iopub.status.busy": "2024-03-24T07:19:29.098268Z",
     "iopub.status.idle": "2024-03-24T07:19:29.102539Z",
     "shell.execute_reply": "2024-03-24T07:19:29.102023Z"
    }
   },
   "outputs": [],
   "source": [
    "pandarallel.initialize()"
   ]
  },
  {
   "cell_type": "markdown",
   "id": "8c0d65ef",
   "metadata": {},
   "source": [
    "# Read data"
   ]
  },
  {
   "cell_type": "code",
   "execution_count": null,
   "id": "abeb0344",
   "metadata": {
    "execution": {
     "iopub.execute_input": "2024-03-24T07:19:29.104988Z",
     "iopub.status.busy": "2024-03-24T07:19:29.104792Z",
     "iopub.status.idle": "2024-03-24T07:19:29.107518Z",
     "shell.execute_reply": "2024-03-24T07:19:29.107025Z"
    }
   },
   "outputs": [],
   "source": [
    "data_path = os.path.join(\"data\", \"prepared\")"
   ]
  },
  {
   "cell_type": "code",
   "execution_count": null,
   "id": "b1ce01fe",
   "metadata": {
    "execution": {
     "iopub.execute_input": "2024-03-24T07:19:29.109772Z",
     "iopub.status.busy": "2024-03-24T07:19:29.109572Z",
     "iopub.status.idle": "2024-03-24T07:19:29.211531Z",
     "shell.execute_reply": "2024-03-24T07:19:29.210801Z"
    }
   },
   "outputs": [],
   "source": [
    "file_name = \"interactions_relevant.pkl\"\n",
    "file_path = os.path.join(data_path, file_name)\n",
    "interactions: pd.DataFrame = None # type: ignore\n",
    "if interactions is None:\n",
    "    interactions = pd.read_pickle(\n",
    "        file_path,\n",
    "    )\n",
    "assert interactions.shape[0] == interactions.groupby(['user_code', 'poll_code']).ngroups\n",
    "display(interactions.head())    "
   ]
  },
  {
   "cell_type": "code",
   "execution_count": null,
   "id": "632b4894",
   "metadata": {
    "execution": {
     "iopub.execute_input": "2024-03-24T07:19:29.215395Z",
     "iopub.status.busy": "2024-03-24T07:19:29.214717Z",
     "iopub.status.idle": "2024-03-24T07:19:29.238025Z",
     "shell.execute_reply": "2024-03-24T07:19:29.237254Z"
    }
   },
   "outputs": [],
   "source": [
    "file_name = \"users_relevant.pkl\"\n",
    "file_path = os.path.join(data_path, file_name)\n",
    "users: pd.DataFrame = None # type: ignore\n",
    "if users is None:\n",
    "    users = pd.read_pickle(\n",
    "        file_path,\n",
    "    )\n",
    "assert users.shape[0] == users[\"user_code\"].nunique()    \n",
    "display(users.head())   "
   ]
  },
  {
   "cell_type": "code",
   "execution_count": null,
   "id": "dbcf6493",
   "metadata": {
    "execution": {
     "iopub.execute_input": "2024-03-24T07:19:29.241913Z",
     "iopub.status.busy": "2024-03-24T07:19:29.241633Z",
     "iopub.status.idle": "2024-03-24T07:19:29.258372Z",
     "shell.execute_reply": "2024-03-24T07:19:29.257710Z"
    },
    "lines_to_next_cell": 2
   },
   "outputs": [],
   "source": [
    "file_name = \"polls_relevant.pkl\"\n",
    "file_path = os.path.join(data_path, file_name)\n",
    "polls: pd.DataFrame = None # type: ignore\n",
    "if polls is None:\n",
    "    polls = pd.read_pickle(\n",
    "        file_path,\n",
    "    )\n",
    "assert polls.shape[0] == polls[\"poll_code\"].nunique()    \n",
    "display(polls.head())   "
   ]
  },
  {
   "cell_type": "markdown",
   "id": "0505f1f5",
   "metadata": {},
   "source": [
    "# Train test split"
   ]
  },
  {
   "cell_type": "code",
   "execution_count": null,
   "id": "b86e64fb",
   "metadata": {
    "execution": {
     "iopub.execute_input": "2024-03-24T07:19:29.261684Z",
     "iopub.status.busy": "2024-03-24T07:19:29.261366Z",
     "iopub.status.idle": "2024-03-24T07:19:29.312355Z",
     "shell.execute_reply": "2024-03-24T07:19:29.311615Z"
    }
   },
   "outputs": [],
   "source": [
    "print(\"User data split:\")\n",
    "display(\n",
    "    pd.crosstab(\n",
    "        users[\"has_just_one_poll\"],\n",
    "        users[\"has_no_useful_identity_data\"],\n",
    "        rownames=[\"is new user\"],\n",
    "        colnames=[\"no identity data\"],\n",
    "        margins=True,\n",
    "        normalize=True,\n",
    "    ).apply(lambda x: (x * 100).round(2))\n",
    ")"
   ]
  },
  {
   "cell_type": "code",
   "execution_count": null,
   "id": "82fda18a",
   "metadata": {
    "execution": {
     "iopub.execute_input": "2024-03-24T07:19:29.318788Z",
     "iopub.status.busy": "2024-03-24T07:19:29.317896Z",
     "iopub.status.idle": "2024-03-24T07:19:29.380016Z",
     "shell.execute_reply": "2024-03-24T07:19:29.379303Z"
    }
   },
   "outputs": [],
   "source": [
    "users_has_columns = users.columns[users.columns.str.contains(\"has_\")].tolist()\n",
    "\n",
    "if not all([x in interactions.columns for x in users_has_columns]):\n",
    "    rows_before = interactions.shape[0]    \n",
    "    interactions = interactions.merge(\n",
    "        users[\n",
    "            [\"user_code\", *users_has_columns]\n",
    "        ],\n",
    "        on=\"user_code\",\n",
    "        how=\"left\",\n",
    "    )\n",
    "    rows_after = interactions.shape[0]\n",
    "    assert rows_before == rows_after\n",
    "\n",
    "group_name_dict = {\n",
    "    (True, True): (\"new\", \"no_identity_data\"),\n",
    "    (True, False): (\"new\", \"with_identity_data\"),\n",
    "    (False, True): (\"existing\", \"no_identity_data\"),\n",
    "    (False, False): (\"existing\", \"with_identity_data\"),\n",
    "}\n",
    "\n",
    "grouped_data = (\n",
    "    interactions\n",
    "    .groupby([\"has_just_one_poll\", \"has_no_useful_identity_data\"])\n",
    ")\n",
    "\n",
    "grouped_data_dict = {\n",
    "    group_name_dict[group_name]: group_data for group_name, group_data in grouped_data\n",
    "}"
   ]
  },
  {
   "cell_type": "code",
   "execution_count": null,
   "id": "e50054ed",
   "metadata": {
    "execution": {
     "iopub.execute_input": "2024-03-24T07:19:29.385697Z",
     "iopub.status.busy": "2024-03-24T07:19:29.385395Z",
     "iopub.status.idle": "2024-03-24T07:19:29.563075Z",
     "shell.execute_reply": "2024-03-24T07:19:29.562282Z"
    }
   },
   "outputs": [],
   "source": [
    "train_data_dict = {}\n",
    "test_data_dict = {}\n",
    "\n",
    "for key, value in grouped_data_dict.items():\n",
    "    # value = value.sort_values([\"createdAt\"]).copy()\n",
    "    if key[0] == \"new\":\n",
    "        test_indexes = (\n",
    "            value[value[\"event\"] != \"Impression\"]   # because we want only interactive polls in test\n",
    "            .groupby([\"poll_code\"])    \n",
    "            .filter(lambda x: len(x) > 1)   # if the poll has just this one user, then that poll should be present in train for it to be available for recommendation\n",
    "            .groupby([\"poll_code\"])\n",
    "            .apply(lambda x: x.sample(frac=0.1, random_state=123))\n",
    "            .reset_index(level=[0], drop=True)\n",
    "            .index\n",
    "        )\n",
    "    else:\n",
    "        test_indexes = (\n",
    "            value[value[\"event\"] != \"Impression\"]   # because we want only interactive polls in test\n",
    "            .groupby([\"poll_code\"])\n",
    "            .filter(lambda x: len(x) > 2)  # to ensure that test polls are in train too\n",
    "            .sample(frac=0.2, random_state=123)\n",
    "            .index\n",
    "        )\n",
    "    test_data_dict[key] = value.loc[test_indexes]\n",
    "    train_data_dict[key] = value.drop(test_indexes)"
   ]
  },
  {
   "cell_type": "code",
   "execution_count": null,
   "id": "83f4c89d",
   "metadata": {
    "execution": {
     "iopub.execute_input": "2024-03-24T07:19:29.567762Z",
     "iopub.status.busy": "2024-03-24T07:19:29.567521Z",
     "iopub.status.idle": "2024-03-24T07:19:40.128410Z",
     "shell.execute_reply": "2024-03-24T07:19:40.127653Z"
    }
   },
   "outputs": [],
   "source": [
    "train_data = pd.concat(train_data_dict.values(), keys=train_data_dict.keys()).reset_index(drop=True)\n",
    "train_users = get_users_data_from_interaction_data(train_data.copy())\n",
    "train_polls = get_polls_data_from_interaction_data(train_data.copy())\n",
    "\n",
    "assert set(train_data[\"user_code\"].unique()).issubset(set(train_users[\"user_code\"]))\n",
    "assert set(train_users[\"user_code\"]).issubset(train_data[\"user_code\"].unique())\n",
    "assert set(train_data[\"poll_code\"].unique()).issubset(set(train_polls[\"poll_code\"]))\n",
    "assert set(train_polls[\"poll_code\"]).issubset(train_data[\"poll_code\"].unique())\n",
    "\n",
    "print(\"train:\")\n",
    "print(f\"{train_data.shape}\")\n",
    "print(f\"\"\"Users in train data: {len(train_data[\"user_code\"].unique())}\"\"\")\n",
    "print(f\"\"\"Polls in train data: {len(train_data[\"poll_code\"].unique())}\"\"\")\n",
    "print(\"User-poll interaction split:\")\n",
    "display(\n",
    "    pd.crosstab(\n",
    "        train_data[\"has_just_one_poll\"],\n",
    "        train_data[\"has_no_useful_identity_data\"],\n",
    "        rownames=[\"is new user\"],\n",
    "        colnames=[\"no identity data\"],\n",
    "        margins=True,\n",
    "        normalize=True,\n",
    "    ).apply(lambda x: (x * 100).round(2))\n",
    ")\n",
    "\n",
    "test_data = pd.concat(test_data_dict.values(), keys=test_data_dict.keys()).reset_index(drop=True)\n",
    "test_users = get_users_data_from_interaction_data(test_data.copy())\n",
    "test_polls = get_polls_data_from_interaction_data(test_data.copy())\n",
    "\n",
    "assert set(test_data[\"user_code\"].unique()).issubset(set(test_users[\"user_code\"]))\n",
    "assert set(test_users[\"user_code\"]).issubset(test_data[\"user_code\"].unique())\n",
    "assert set(test_data[\"poll_code\"].unique()).issubset(set(test_polls[\"poll_code\"]))\n",
    "assert set(test_polls[\"poll_code\"]).issubset(test_data[\"poll_code\"].unique())\n",
    "\n",
    "print(\"\\ntest:\")\n",
    "print(f\"{test_data.shape}\")\n",
    "print(f\"\"\"Users in test data: {len(test_data[\"user_code\"].unique())}\"\"\")\n",
    "print(f\"\"\"Polls in test data: {len(test_data[\"poll_code\"].unique())}\"\"\")\n",
    "print(\"User-poll interaction split:\")\n",
    "display(\n",
    "    pd.crosstab(\n",
    "        test_data[\"has_just_one_poll\"],\n",
    "        test_data[\"has_no_useful_identity_data\"],\n",
    "        rownames=[\"is new user\"],\n",
    "        colnames=[\"no identity data\"],\n",
    "        margins=True,\n",
    "        normalize=True,\n",
    "    ).apply(lambda x: (x * 100).round(2))\n",
    ")\n",
    "\n",
    "print(\n",
    "    f\"\"\"\\nTest users in train: {np.isin(test_data[\"user_code\"].unique(), train_data[\"user_code\"].unique()).sum() / len(test_data[\"user_code\"].unique())* 100:.2f}%\"\"\"\n",
    ")\n",
    "print(\n",
    "    f\"\"\"Test polls in train: {np.isin(test_data[\"poll_code\"].unique(), train_data[\"poll_code\"].unique()).sum() / len(test_data[\"poll_code\"].unique())* 100:.2f}%\"\"\"\n",
    ")\n",
    "\n",
    "\n",
    "assert train_data.shape[0] + test_data.shape[0] == interactions.shape[0]"
   ]
  },
  {
   "cell_type": "code",
   "execution_count": null,
   "id": "d3e31797",
   "metadata": {
    "execution": {
     "iopub.execute_input": "2024-03-24T07:19:40.134177Z",
     "iopub.status.busy": "2024-03-24T07:19:40.132979Z",
     "iopub.status.idle": "2024-03-24T07:19:40.164288Z",
     "shell.execute_reply": "2024-03-24T07:19:40.163354Z"
    }
   },
   "outputs": [],
   "source": [
    "print(\"Distribution of polls per user in train\")\n",
    "display(train_users[\"n_interactive_polls\"].describe(np.arange(0.1, 1, 0.1)).to_frame().T)\n",
    "\n",
    "print(\"Distribution of polls per user in test\")\n",
    "display(test_users[\"n_interactive_polls\"].describe(np.arange(0.1, 1, 0.1)).to_frame().T)"
   ]
  },
  {
   "cell_type": "code",
   "execution_count": null,
   "id": "d84a7a22",
   "metadata": {
    "execution": {
     "iopub.execute_input": "2024-03-24T07:19:40.167652Z",
     "iopub.status.busy": "2024-03-24T07:19:40.167376Z",
     "iopub.status.idle": "2024-03-24T07:19:40.241623Z",
     "shell.execute_reply": "2024-03-24T07:19:40.240854Z"
    }
   },
   "outputs": [],
   "source": [
    "assert interactions.shape[0] == interactions.groupby([\"poll_code\", \"user_code\"]).ngroups\n",
    "assert users.shape[0] == users[\"user_code\"].nunique()\n",
    "assert polls.shape[0] == polls[\"poll_code\"].nunique()\n",
    "\n",
    "assert set(interactions[\"user_code\"].unique()).issubset(set(users[\"user_code\"]))\n",
    "assert set(users[\"user_code\"]).issubset(interactions[\"user_code\"].unique())\n",
    "all_users = users[\"user_code\"]\n",
    "\n",
    "assert set(interactions[\"poll_code\"].unique()).issubset(set(polls[\"poll_code\"]))\n",
    "assert set(polls[\"poll_code\"]).issubset(interactions[\"poll_code\"].unique())\n",
    "all_polls = polls[\"poll_code\"]"
   ]
  },
  {
   "cell_type": "code",
   "execution_count": null,
   "id": "a5729b54",
   "metadata": {
    "execution": {
     "iopub.execute_input": "2024-03-24T07:19:40.244825Z",
     "iopub.status.busy": "2024-03-24T07:19:40.244575Z",
     "iopub.status.idle": "2024-03-24T07:19:40.316670Z",
     "shell.execute_reply": "2024-03-24T07:19:40.314147Z"
    }
   },
   "outputs": [],
   "source": [
    "assert train_data.shape[0] == train_data.groupby([\"poll_code\", \"user_code\"]).ngroups\n",
    "assert train_users.shape[0] == train_users[\"user_code\"].nunique()\n",
    "assert train_polls.shape[0] == train_polls[\"poll_code\"].nunique()\n",
    "\n",
    "assert set(train_data[\"user_code\"].unique()).issubset(set(train_users[\"user_code\"]))\n",
    "assert set(train_users[\"user_code\"]).issubset(train_data[\"user_code\"].unique())\n",
    "train_users_users = train_users[\"user_code\"]\n",
    "\n",
    "\n",
    "assert set(train_data[\"poll_code\"].unique()).issubset(set(train_polls[\"poll_code\"]))\n",
    "assert set(train_polls[\"poll_code\"]).issubset(train_data[\"poll_code\"].unique())\n",
    "train_polls_polls = train_polls[\"poll_code\"]"
   ]
  },
  {
   "cell_type": "code",
   "execution_count": null,
   "id": "10daa3a0",
   "metadata": {
    "execution": {
     "iopub.execute_input": "2024-03-24T07:19:40.322155Z",
     "iopub.status.busy": "2024-03-24T07:19:40.321801Z",
     "iopub.status.idle": "2024-03-24T07:19:40.346823Z",
     "shell.execute_reply": "2024-03-24T07:19:40.345802Z"
    }
   },
   "outputs": [],
   "source": [
    "assert test_data.shape[0] == test_data.groupby([\"poll_code\", \"user_code\"]).ngroups\n",
    "assert test_users.shape[0] == test_users[\"user_code\"].nunique()\n",
    "assert test_polls.shape[0] == test_polls[\"poll_code\"].nunique()\n",
    "\n",
    "assert set(test_data[\"user_code\"].unique()).issubset(set(test_users[\"user_code\"]))\n",
    "assert set(test_users[\"user_code\"]).issubset(test_data[\"user_code\"].unique())\n",
    "test_users_users = test_users[\"user_code\"]\n",
    "\n",
    "\n",
    "assert set(test_data[\"poll_code\"].unique()).issubset(set(test_polls[\"poll_code\"]))\n",
    "assert set(test_polls[\"poll_code\"]).issubset(test_data[\"poll_code\"].unique())\n",
    "test_polls_polls = test_polls[\"poll_code\"]"
   ]
  },
  {
   "cell_type": "markdown",
   "id": "92d64650",
   "metadata": {},
   "source": [
    "# Data prep. for model"
   ]
  },
  {
   "cell_type": "code",
   "execution_count": null,
   "id": "5856f34d",
   "metadata": {
    "execution": {
     "iopub.execute_input": "2024-03-24T07:19:40.355995Z",
     "iopub.status.busy": "2024-03-24T07:19:40.355261Z",
     "iopub.status.idle": "2024-03-24T07:19:40.406021Z",
     "shell.execute_reply": "2024-03-24T07:19:40.405042Z"
    }
   },
   "outputs": [],
   "source": [
    "print(f\"Total train users: {len(train_users)}\")\n",
    "print(f\"Total train polls: {len(train_polls)}\")\n",
    "\n",
    "# get just those train polls that the user interacted with\n",
    "train_data_i = train_data[train_data[\"event_score\"] != 0].copy()\n",
    "train_users_with_interactions = train_data_i[\"user_code\"].unique()\n",
    "train_polls_with_interactions = train_data_i[\"poll_code\"].unique()\n",
    "\n",
    "print(f\"train users with interactions: {len(train_users_with_interactions)}\")\n",
    "print(f\"train polls with interactions: {len(train_polls_with_interactions)}\")"
   ]
  },
  {
   "cell_type": "code",
   "execution_count": null,
   "id": "00ab7818",
   "metadata": {
    "execution": {
     "iopub.execute_input": "2024-03-24T07:19:40.410094Z",
     "iopub.status.busy": "2024-03-24T07:19:40.409661Z",
     "iopub.status.idle": "2024-03-24T07:19:40.702709Z",
     "shell.execute_reply": "2024-03-24T07:19:40.701470Z"
    }
   },
   "outputs": [],
   "source": [
    "print(f\"Total test users: {len(test_users)}\")\n",
    "print(f\"Total test polls: {len(test_polls)}\")\n",
    "\n",
    "# convert it to dict format\n",
    "test_data_dict = convert_df_to_dict(\n",
    "    test_data[[\"user_code\", \"poll_code\", \"event_score\"]].copy(), with_pred_rating=True\n",
    ")"
   ]
  },
  {
   "cell_type": "code",
   "execution_count": null,
   "id": "f33c6fde",
   "metadata": {
    "execution": {
     "iopub.execute_input": "2024-03-24T07:19:40.706588Z",
     "iopub.status.busy": "2024-03-24T07:19:40.706070Z",
     "iopub.status.idle": "2024-03-24T07:19:40.831127Z",
     "shell.execute_reply": "2024-03-24T07:19:40.829928Z"
    }
   },
   "outputs": [],
   "source": [
    "train_poll_codes_by_user = train_data.groupby(\"user_code\")[\"poll_code\"].agg(list).reset_index()\n",
    "train_poll_codes_by_user.rename(columns={\"poll_code\": \"train_poll_codes_list\"}, inplace=True)\n",
    "\n",
    "rows_before = test_data.shape[0]\n",
    "\n",
    "test_data = test_data.merge(train_poll_codes_by_user, on=\"user_code\", how=\"left\")\n",
    "test_data[\"train_poll_codes_list\"] = test_data[\"train_poll_codes_list\"].apply(\n",
    "    lambda d: d if isinstance(d, list) else []\n",
    ")\n",
    "rows_after = test_data.shape[0]\n",
    "\n",
    "assert rows_before == rows_after"
   ]
  },
  {
   "cell_type": "code",
   "execution_count": null,
   "id": "52cf8a79",
   "metadata": {
    "execution": {
     "iopub.execute_input": "2024-03-24T07:19:40.836484Z",
     "iopub.status.busy": "2024-03-24T07:19:40.835789Z",
     "iopub.status.idle": "2024-03-24T07:21:07.974474Z",
     "shell.execute_reply": "2024-03-24T07:21:07.973734Z"
    }
   },
   "outputs": [],
   "source": [
    "test_users_in_train = test_users[np.isin(test_users, train_users)].copy()\n",
    "\n",
    "test_data_in_train = (\n",
    "    test_data[test_data[\"user_code\"].isin(test_users_in_train)].copy().reset_index(drop=True)\n",
    ")\n",
    "\n",
    "test_data_in_train_dict = (\n",
    "    test_data_in_train.groupby(\"user_code\")[[\"poll_code\", \"event_score\"]]\n",
    "    .apply(lambda g: list(map(tuple, g.values)))\n",
    "    .to_dict()\n",
    ")\n",
    "\n",
    "for user_code, recommendation in test_data_in_train_dict.items():\n",
    "    recommendation = dict(sorted(recommendation.items(), key=lambda x: x[1], reverse=True))\n",
    "    test_data_in_train_dict[user_code] = recommendation"
   ]
  },
  {
   "cell_type": "markdown",
   "id": "2bf3fae5",
   "metadata": {},
   "source": [
    "# Modeling"
   ]
  },
  {
   "cell_type": "code",
   "execution_count": null,
   "id": "3752c8e6",
   "metadata": {
    "execution": {
     "iopub.execute_input": "2024-03-24T07:21:07.978906Z",
     "iopub.status.busy": "2024-03-24T07:21:07.978230Z",
     "iopub.status.idle": "2024-03-24T07:21:07.983276Z",
     "shell.execute_reply": "2024-03-24T07:21:07.982565Z"
    }
   },
   "outputs": [],
   "source": [
    "model_results_comparison = pd.DataFrame()"
   ]
  },
  {
   "cell_type": "markdown",
   "id": "ac7ae008",
   "metadata": {},
   "source": [
    "## Basline-0: same top popular polls to every user"
   ]
  },
  {
   "cell_type": "code",
   "execution_count": null,
   "id": "d9c771de",
   "metadata": {
    "execution": {
     "iopub.execute_input": "2024-03-24T07:21:07.986714Z",
     "iopub.status.busy": "2024-03-24T07:21:07.986478Z",
     "iopub.status.idle": "2024-03-24T07:21:10.529499Z",
     "shell.execute_reply": "2024-03-24T07:21:10.528393Z"
    }
   },
   "outputs": [],
   "source": [
    "test_polls_set = set(test_polls)\n",
    "\n",
    "for popularity_metric in [\n",
    "    \"n_interactive_users\",\n",
    "    # \"event_score_sum_by_poll\",\n",
    "    # \"event_score_by_poll_per_interactive_user\",\n",
    "]:\n",
    "    recommended_polls = (\n",
    "        train_polls.sort_values(popularity_metric, ascending=False)[\"poll_code\"].reset_index(\n",
    "            drop=True\n",
    "        )\n",
    "        .copy()\n",
    "        .to_list()\n",
    "    )\n",
    "\n",
    "    df_recommended = test_users[[\"user_code\"]].copy()\n",
    "\n",
    "    rows_before = df_recommended.shape[0]\n",
    "    df_recommended = df_recommended.merge(\n",
    "        test_data[[\"user_code\", \"train_poll_codes_list\"]].drop_duplicates([\"user_code\"]),\n",
    "        on=\"user_code\",\n",
    "        how=\"left\",\n",
    "    )\n",
    "    rows_after = df_recommended.shape[0]\n",
    "    assert rows_before == rows_after\n",
    "\n",
    "    for n in [10, 25, 50]:\n",
    "        model_name = f\"Baseline: Top {n} polls by \" + popularity_metric\n",
    "        df_recommended[\"recommended_polls\"] = [recommended_polls] * df_recommended.shape[0]\n",
    "        df_recommended[\"recommended_polls_filtered\"] = df_recommended.parallel_apply(\n",
    "            lambda x: x[\"recommended_polls\"][0:n],\n",
    "            axis=1,\n",
    "        ) # type: ignore\n",
    "\n",
    "        # df_recommended[\"recommended_polls_filtered\"] = df_recommended.parallel_apply(\n",
    "        #     lambda x: [\n",
    "        #         poll for poll in x[\"recommended_polls\"] if poll not in x[\"train_poll_codes_list\"]\n",
    "        #     ][0:n],\n",
    "        #     axis=1,\n",
    "        # ) # type: ignore\n",
    "\n",
    "        recommendation_dict = df_recommended.set_index(\"user_code\")[\n",
    "            \"recommended_polls_filtered\"\n",
    "        ].to_dict()\n",
    "\n",
    "        (\n",
    "            ndcg_by_user,\n",
    "            precision_by_user,\n",
    "            recall_by_user,\n",
    "            results,\n",
    "            model_results_comparison,\n",
    "        ) = eval_add_show(\n",
    "            model_name,\n",
    "            recommendation_dict,\n",
    "            test_data_dict,\n",
    "            all_polls,\n",
    "            train_data[[\"user_code\", \"poll_code\", \"event_score\"]].copy(),\n",
    "            with_pred_rating=False,\n",
    "            model_results_comparison=model_results_comparison.copy(),\n",
    "            add=True,\n",
    "            show=False,\n",
    "        )\n",
    "with pd.option_context(\"display.float_format\", \"{:,.2%}\".format):\n",
    "    display(model_results_comparison)"
   ]
  },
  {
   "cell_type": "markdown",
   "id": "9aa56559",
   "metadata": {},
   "source": [
    "## SVD from `surprise` package"
   ]
  },
  {
   "cell_type": "code",
   "execution_count": null,
   "id": "8ac43e06",
   "metadata": {
    "execution": {
     "iopub.execute_input": "2024-03-24T07:21:10.533311Z",
     "iopub.status.busy": "2024-03-24T07:21:10.533044Z",
     "iopub.status.idle": "2024-03-24T07:21:10.770462Z",
     "shell.execute_reply": "2024-03-24T07:21:10.769801Z"
    }
   },
   "outputs": [],
   "source": [
    "from surprise import Dataset, Reader, SVD"
   ]
  },
  {
   "cell_type": "code",
   "execution_count": null,
   "id": "26ab2ab0",
   "metadata": {
    "execution": {
     "iopub.execute_input": "2024-03-24T07:21:10.773674Z",
     "iopub.status.busy": "2024-03-24T07:21:10.773307Z",
     "iopub.status.idle": "2024-03-24T07:21:10.928027Z",
     "shell.execute_reply": "2024-03-24T07:21:10.927311Z"
    }
   },
   "outputs": [],
   "source": [
    "rating_min = train_data[\"event_score\"].min()\n",
    "rating_max = train_data[\"event_score\"].max()\n",
    "print(f\"Min rating: {rating_min}, Max rating: {rating_max}\")\n",
    "req_cols = [\"user_code\", \"poll_code\", \"event_score\"]\n",
    "\n",
    "reader = Reader(rating_scale=(rating_min, rating_max))\n",
    "train_data_surprise = Dataset.load_from_df(train_data[req_cols], reader).build_full_trainset()"
   ]
  },
  {
   "cell_type": "code",
   "execution_count": null,
   "id": "a61d45d2",
   "metadata": {
    "execution": {
     "iopub.execute_input": "2024-03-24T07:21:10.931797Z",
     "iopub.status.busy": "2024-03-24T07:21:10.931408Z",
     "iopub.status.idle": "2024-03-24T07:21:11.696041Z",
     "shell.execute_reply": "2024-03-24T07:21:11.694441Z"
    }
   },
   "outputs": [],
   "source": [
    "algo = SVD(n_factors=10, n_epochs=40, lr_all=0.005, reg_all=0.1)\n",
    "algo.fit(train_data_surprise)"
   ]
  },
  {
   "cell_type": "code",
   "execution_count": null,
   "id": "3391b109",
   "metadata": {
    "execution": {
     "iopub.execute_input": "2024-03-24T07:21:11.700009Z",
     "iopub.status.busy": "2024-03-24T07:21:11.699635Z",
     "iopub.status.idle": "2024-03-24T07:21:11.779708Z",
     "shell.execute_reply": "2024-03-24T07:21:11.778515Z"
    }
   },
   "outputs": [],
   "source": [
    "model_filename = 'trained_models/personalization_model.pkl'\n",
    "with open(model_filename, 'wb') as model_file:\n",
    "    pickle.dump(algo, model_file)"
   ]
  },
  {
   "cell_type": "code",
   "execution_count": null,
   "id": "cec25946",
   "metadata": {
    "execution": {
     "iopub.execute_input": "2024-03-24T07:21:11.783234Z",
     "iopub.status.busy": "2024-03-24T07:21:11.782867Z",
     "iopub.status.idle": "2024-03-24T07:21:11.788864Z",
     "shell.execute_reply": "2024-03-24T07:21:11.788272Z"
    }
   },
   "outputs": [],
   "source": [
    "def get_test_predictions(algo, test_data, all_polls, is_filter_train_polls_out=False, n=50):\n",
    "    test_predictions_by_user = defaultdict(list)\n",
    "    for user_code in test_data[\"user_code\"].unique():\n",
    "        train_poll_codes_list = test_data.loc[\n",
    "            test_data[\"user_code\"] == user_code, \"train_poll_codes_list\"\n",
    "        ].values.tolist()[0]\n",
    "        if is_filter_train_polls_out:\n",
    "            candidate_polls = [poll for poll in all_polls if poll not in train_poll_codes_list]\n",
    "        else:\n",
    "            candidate_polls = all_polls\n",
    "        for poll_code in candidate_polls:\n",
    "            predicted_rating = algo.predict(user_code, poll_code).est\n",
    "            test_predictions_by_user[user_code].append((poll_code, predicted_rating))\n",
    "\n",
    "    for user_code, recommendation in test_predictions_by_user.items():\n",
    "        recommendation.sort(key=lambda x: x[1], reverse=True)\n",
    "        test_predictions_by_user[user_code] = recommendation[:n]\n",
    "\n",
    "    return test_predictions_by_user"
   ]
  },
  {
   "cell_type": "code",
   "execution_count": null,
   "id": "c3340e7f",
   "metadata": {
    "execution": {
     "iopub.execute_input": "2024-03-24T07:21:11.791808Z",
     "iopub.status.busy": "2024-03-24T07:21:11.791360Z",
     "iopub.status.idle": "2024-03-24T07:22:58.504374Z",
     "shell.execute_reply": "2024-03-24T07:22:58.503756Z"
    }
   },
   "outputs": [],
   "source": [
    "for is_filter_train_polls_out in [False, True]:\n",
    "    for n in [10, 25, 50]:\n",
    "        test_predictions_by_user_topn = get_test_predictions(\n",
    "            algo, test_data, all_polls, is_filter_train_polls_out=is_filter_train_polls_out, n=n\n",
    "        )\n",
    "        model_name = f\"SVD: {n} - has_train_polls {is_filter_train_polls_out}\"\n",
    "        ndcg_by_user, precision_by_user, recall_by_user, results, model_results_comparison = eval_add_show(\n",
    "            model_name,\n",
    "            test_predictions_by_user_topn,\n",
    "            test_data_dict,\n",
    "            all_polls,\n",
    "            train_data[[\"user_code\", \"poll_code\", \"event_score\"]].copy(),\n",
    "            with_pred_rating=True,\n",
    "            model_results_comparison=model_results_comparison.copy(),\n",
    "            add=True,\n",
    "            show=False,\n",
    "        )"
   ]
  },
  {
   "cell_type": "code",
   "execution_count": null,
   "id": "af4bdd7f",
   "metadata": {
    "execution": {
     "iopub.execute_input": "2024-03-24T07:22:58.507795Z",
     "iopub.status.busy": "2024-03-24T07:22:58.507511Z",
     "iopub.status.idle": "2024-03-24T07:22:58.518545Z",
     "shell.execute_reply": "2024-03-24T07:22:58.517897Z"
    }
   },
   "outputs": [],
   "source": [
    "with pd.option_context(\"display.float_format\", \"{:,.2%}\".format):\n",
    "    display(model_results_comparison)"
   ]
  }
 ],
 "metadata": {
  "jupytext": {
   "cell_metadata_filter": "-all",
   "custom_cell_magics": "kql"
  },
  "kernelspec": {
   "display_name": "hunch_assignment",
   "language": "python",
   "name": "python3"
  },
  "language_info": {
   "codemirror_mode": {
    "name": "ipython",
    "version": 3
   },
   "file_extension": ".py",
   "mimetype": "text/x-python",
   "name": "python",
   "nbconvert_exporter": "python",
   "pygments_lexer": "ipython3",
   "version": "3.10.14"
  }
 },
 "nbformat": 4,
 "nbformat_minor": 5
}
