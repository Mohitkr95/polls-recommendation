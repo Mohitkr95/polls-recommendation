{
 "cells": [
  {
   "cell_type": "markdown",
   "id": "252241f4",
   "metadata": {},
   "source": [
    "# Setup"
   ]
  },
  {
   "cell_type": "code",
   "execution_count": null,
   "id": "6a89b5b1",
   "metadata": {
    "execution": {
     "iopub.execute_input": "2024-03-24T07:18:52.297804Z",
     "iopub.status.busy": "2024-03-24T07:18:52.297147Z",
     "iopub.status.idle": "2024-03-24T07:18:53.457683Z",
     "shell.execute_reply": "2024-03-24T07:18:53.456981Z"
    }
   },
   "outputs": [],
   "source": [
    "import datetime\n",
    "import os\n",
    "\n",
    "import matplotlib.pyplot as plt\n",
    "import numpy as np\n",
    "import pandas as pd\n",
    "from skimpy import skim"
   ]
  },
  {
   "cell_type": "code",
   "execution_count": null,
   "id": "7576dbc9",
   "metadata": {
    "execution": {
     "iopub.execute_input": "2024-03-24T07:18:53.461176Z",
     "iopub.status.busy": "2024-03-24T07:18:53.460851Z",
     "iopub.status.idle": "2024-03-24T07:18:53.464421Z",
     "shell.execute_reply": "2024-03-24T07:18:53.463868Z"
    }
   },
   "outputs": [],
   "source": [
    "from IPython.display import display\n",
    "\n",
    "pd.set_option(\"display.max_rows\", None)\n",
    "pd.set_option(\"display.max_columns\", None)"
   ]
  },
  {
   "cell_type": "markdown",
   "id": "2501e11f",
   "metadata": {},
   "source": [
    "# Read raw data"
   ]
  },
  {
   "cell_type": "code",
   "execution_count": null,
   "id": "9c546d55",
   "metadata": {
    "execution": {
     "iopub.execute_input": "2024-03-24T07:18:53.467034Z",
     "iopub.status.busy": "2024-03-24T07:18:53.466795Z",
     "iopub.status.idle": "2024-03-24T07:18:53.470022Z",
     "shell.execute_reply": "2024-03-24T07:18:53.469496Z"
    }
   },
   "outputs": [],
   "source": [
    "data_path = os.path.join(\"data\", \"raw\")\n",
    "file_name = \"events.pkl\"\n",
    "file_path = os.path.join(data_path, file_name)"
   ]
  },
  {
   "cell_type": "code",
   "execution_count": null,
   "id": "96645c2d",
   "metadata": {
    "execution": {
     "iopub.execute_input": "2024-03-24T07:18:53.472465Z",
     "iopub.status.busy": "2024-03-24T07:18:53.472269Z",
     "iopub.status.idle": "2024-03-24T07:18:53.519256Z",
     "shell.execute_reply": "2024-03-24T07:18:53.518445Z"
    }
   },
   "outputs": [],
   "source": [
    "events_raw: pd.DataFrame = None  # type: ignore\n",
    "if events_raw is None:\n",
    "    events_raw = pd.read_pickle(file_path)"
   ]
  },
  {
   "cell_type": "code",
   "execution_count": null,
   "id": "e6d8075a",
   "metadata": {
    "execution": {
     "iopub.execute_input": "2024-03-24T07:18:53.522225Z",
     "iopub.status.busy": "2024-03-24T07:18:53.521984Z",
     "iopub.status.idle": "2024-03-24T07:18:53.595865Z",
     "shell.execute_reply": "2024-03-24T07:18:53.595078Z"
    }
   },
   "outputs": [],
   "source": [
    "display(events_raw.head())\n",
    "display(events_raw.info())"
   ]
  },
  {
   "cell_type": "code",
   "execution_count": null,
   "id": "67f6dcc5",
   "metadata": {
    "execution": {
     "iopub.execute_input": "2024-03-24T07:18:53.598646Z",
     "iopub.status.busy": "2024-03-24T07:18:53.598385Z",
     "iopub.status.idle": "2024-03-24T07:18:53.834538Z",
     "shell.execute_reply": "2024-03-24T07:18:53.833718Z"
    }
   },
   "outputs": [],
   "source": [
    "skim(events_raw.apply(lambda x: x.astype(\"category\") if x.dtype == \"object\" else x))"
   ]
  },
  {
   "cell_type": "markdown",
   "id": "8e8d7c67",
   "metadata": {},
   "source": [
    "# Make a backup"
   ]
  },
  {
   "cell_type": "code",
   "execution_count": null,
   "id": "86713618",
   "metadata": {
    "execution": {
     "iopub.execute_input": "2024-03-24T07:18:53.837411Z",
     "iopub.status.busy": "2024-03-24T07:18:53.837127Z",
     "iopub.status.idle": "2024-03-24T07:18:53.848166Z",
     "shell.execute_reply": "2024-03-24T07:18:53.847469Z"
    }
   },
   "outputs": [],
   "source": [
    "events = events_raw.copy()"
   ]
  },
  {
   "cell_type": "markdown",
   "id": "8526e7a9",
   "metadata": {},
   "source": [
    "# Clean"
   ]
  },
  {
   "cell_type": "markdown",
   "id": "6b1302f0",
   "metadata": {},
   "source": [
    "## Handling potential duplicates"
   ]
  },
  {
   "cell_type": "code",
   "execution_count": null,
   "id": "dd8cf4e5",
   "metadata": {
    "execution": {
     "iopub.execute_input": "2024-03-24T07:18:53.851368Z",
     "iopub.status.busy": "2024-03-24T07:18:53.851071Z",
     "iopub.status.idle": "2024-03-24T07:19:05.965354Z",
     "shell.execute_reply": "2024-03-24T07:19:05.964601Z"
    }
   },
   "outputs": [],
   "source": [
    "temp = (\n",
    "    events.groupby([\"user_code\", \"poll_code\", \"event\", \"createdAt\"])\n",
    "    .filter(lambda x: x.shape[0] > 1)\n",
    "    .sort_values(by=[\"event\", \"user_code\", \"poll_code\", \"createdAt\"])\n",
    ")"
   ]
  },
  {
   "cell_type": "code",
   "execution_count": null,
   "id": "261d1b11",
   "metadata": {
    "execution": {
     "iopub.execute_input": "2024-03-24T07:19:05.969906Z",
     "iopub.status.busy": "2024-03-24T07:19:05.969546Z",
     "iopub.status.idle": "2024-03-24T07:19:05.993055Z",
     "shell.execute_reply": "2024-03-24T07:19:05.992251Z"
    }
   },
   "outputs": [],
   "source": [
    "print(f\"No. of potential duplicates: {temp.shape[0]}\")\n",
    "for col in [\"user_code\", \"poll_code\", \"event\"]:\n",
    "    print(f\"\\n{col}: {temp[col].value_counts(dropna=False, normalize=True).iloc[:5]}\")\n",
    "display(temp.groupby([\"event\"]).head())"
   ]
  },
  {
   "cell_type": "markdown",
   "id": "b1d4ad87",
   "metadata": {},
   "source": [
    "Different options for some reason! Does not make sense. Let's drop them."
   ]
  },
  {
   "cell_type": "code",
   "execution_count": null,
   "id": "234fb13e",
   "metadata": {
    "execution": {
     "iopub.execute_input": "2024-03-24T07:19:05.996779Z",
     "iopub.status.busy": "2024-03-24T07:19:05.996412Z",
     "iopub.status.idle": "2024-03-24T07:19:06.193876Z",
     "shell.execute_reply": "2024-03-24T07:19:06.193048Z"
    }
   },
   "outputs": [],
   "source": [
    "primary_key = [\"user_code\", \"poll_code\", \"event\", \"createdAt\"]\n",
    "\n",
    "events.drop_duplicates(subset=primary_key, ignore_index=True, inplace=True)\n",
    "\n",
    "assert events.shape[0] == events.groupby(primary_key).ngroups"
   ]
  },
  {
   "cell_type": "markdown",
   "id": "647ffb75",
   "metadata": {},
   "source": [
    "## Handle rows with same user, poll, and event"
   ]
  },
  {
   "cell_type": "code",
   "execution_count": null,
   "id": "514dfcfe",
   "metadata": {
    "execution": {
     "iopub.execute_input": "2024-03-24T07:19:06.197297Z",
     "iopub.status.busy": "2024-03-24T07:19:06.197066Z",
     "iopub.status.idle": "2024-03-24T07:19:06.281124Z",
     "shell.execute_reply": "2024-03-24T07:19:06.280516Z"
    }
   },
   "outputs": [],
   "source": [
    "events.sort_values([\"createdAt\"], inplace=True)\n",
    "\n",
    "is_same_event = events.duplicated(subset=[\"user_code\", \"poll_code\", \"event\"], keep=\"last\")\n",
    "\n",
    "print(\n",
    "    f\"No. of interactions to be removed: {is_same_event.sum()} ({is_same_event.sum()/events.shape[0]*100:.2f}%)\"\n",
    ")"
   ]
  },
  {
   "cell_type": "code",
   "execution_count": null,
   "id": "68c6c8bb",
   "metadata": {
    "execution": {
     "iopub.execute_input": "2024-03-24T07:19:06.284339Z",
     "iopub.status.busy": "2024-03-24T07:19:06.284095Z",
     "iopub.status.idle": "2024-03-24T07:19:06.335824Z",
     "shell.execute_reply": "2024-03-24T07:19:06.334895Z"
    }
   },
   "outputs": [],
   "source": [
    "events = events[~is_same_event].copy().reset_index(drop=True)"
   ]
  },
  {
   "cell_type": "markdown",
   "id": "684c011c",
   "metadata": {},
   "source": [
    "# Write"
   ]
  },
  {
   "cell_type": "code",
   "execution_count": null,
   "id": "edb891c2",
   "metadata": {
    "execution": {
     "iopub.execute_input": "2024-03-24T07:19:06.339306Z",
     "iopub.status.busy": "2024-03-24T07:19:06.339040Z",
     "iopub.status.idle": "2024-03-24T07:19:06.349695Z",
     "shell.execute_reply": "2024-03-24T07:19:06.348947Z"
    }
   },
   "outputs": [],
   "source": [
    "print(events.shape)\n",
    "display(events.head())"
   ]
  },
  {
   "cell_type": "code",
   "execution_count": null,
   "id": "72bf4ff1",
   "metadata": {
    "execution": {
     "iopub.execute_input": "2024-03-24T07:19:06.352606Z",
     "iopub.status.busy": "2024-03-24T07:19:06.352369Z",
     "iopub.status.idle": "2024-03-24T07:19:06.355762Z",
     "shell.execute_reply": "2024-03-24T07:19:06.355206Z"
    }
   },
   "outputs": [],
   "source": [
    "data_path = os.path.join(\"data\", \"prepared\")\n",
    "file_name = \"events.pkl\"\n",
    "file_path = os.path.join(data_path, file_name)"
   ]
  },
  {
   "cell_type": "code",
   "execution_count": null,
   "id": "413331b6",
   "metadata": {
    "execution": {
     "iopub.execute_input": "2024-03-24T07:19:06.358983Z",
     "iopub.status.busy": "2024-03-24T07:19:06.358634Z",
     "iopub.status.idle": "2024-03-24T07:19:06.432456Z",
     "shell.execute_reply": "2024-03-24T07:19:06.431393Z"
    }
   },
   "outputs": [],
   "source": [
    "pd.to_pickle(events, file_path)"
   ]
  },
  {
   "cell_type": "code",
   "execution_count": null,
   "id": "f6a15007",
   "metadata": {
    "execution": {
     "iopub.execute_input": "2024-03-24T07:19:06.436704Z",
     "iopub.status.busy": "2024-03-24T07:19:06.435945Z",
     "iopub.status.idle": "2024-03-24T07:19:06.459794Z",
     "shell.execute_reply": "2024-03-24T07:19:06.459172Z"
    }
   },
   "outputs": [],
   "source": [
    "file_name = \"data/prepared/polls.pkl\"\n",
    "events_raw = pd.read_pickle(file_name)\n",
    "events_raw.head()"
   ]
  }
 ],
 "metadata": {
  "jupytext": {
   "cell_metadata_filter": "-all",
   "custom_cell_magics": "kql"
  },
  "kernelspec": {
   "display_name": "hunch_assignment",
   "language": "python",
   "name": "python3"
  },
  "language_info": {
   "codemirror_mode": {
    "name": "ipython",
    "version": 3
   },
   "file_extension": ".py",
   "mimetype": "text/x-python",
   "name": "python",
   "nbconvert_exporter": "python",
   "pygments_lexer": "ipython3",
   "version": "3.10.14"
  }
 },
 "nbformat": 4,
 "nbformat_minor": 5
}
