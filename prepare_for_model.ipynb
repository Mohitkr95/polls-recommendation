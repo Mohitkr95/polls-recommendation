{
 "cells": [
  {
   "cell_type": "markdown",
   "id": "1dcaf860",
   "metadata": {},
   "source": [
    "# Setup"
   ]
  },
  {
   "cell_type": "code",
   "execution_count": null,
   "id": "6a086360",
   "metadata": {
    "execution": {
     "iopub.execute_input": "2024-03-24T07:19:22.880553Z",
     "iopub.status.busy": "2024-03-24T07:19:22.879448Z",
     "iopub.status.idle": "2024-03-24T07:19:23.784831Z",
     "shell.execute_reply": "2024-03-24T07:19:23.783905Z"
    },
    "lines_to_next_cell": 2
   },
   "outputs": [],
   "source": [
    "import os\n",
    "\n",
    "import pandas as pd\n",
    "from skimpy import skim"
   ]
  },
  {
   "cell_type": "code",
   "execution_count": null,
   "id": "c97076c0",
   "metadata": {
    "execution": {
     "iopub.execute_input": "2024-03-24T07:19:23.788235Z",
     "iopub.status.busy": "2024-03-24T07:19:23.787946Z",
     "iopub.status.idle": "2024-03-24T07:19:23.791567Z",
     "shell.execute_reply": "2024-03-24T07:19:23.791035Z"
    }
   },
   "outputs": [],
   "source": [
    "from IPython.display import display\n",
    "pd.set_option(\"display.max_rows\", None)\n",
    "pd.set_option(\"display.max_columns\", None)"
   ]
  },
  {
   "cell_type": "markdown",
   "id": "3d99a473",
   "metadata": {},
   "source": [
    "# Read data"
   ]
  },
  {
   "cell_type": "code",
   "execution_count": null,
   "id": "667c87d8",
   "metadata": {
    "execution": {
     "iopub.execute_input": "2024-03-24T07:19:23.793977Z",
     "iopub.status.busy": "2024-03-24T07:19:23.793794Z",
     "iopub.status.idle": "2024-03-24T07:19:23.796410Z",
     "shell.execute_reply": "2024-03-24T07:19:23.795938Z"
    }
   },
   "outputs": [],
   "source": [
    "data_path = os.path.join(\"data\", \"prepared\")"
   ]
  },
  {
   "cell_type": "code",
   "execution_count": null,
   "id": "439f027e",
   "metadata": {
    "execution": {
     "iopub.execute_input": "2024-03-24T07:19:23.799160Z",
     "iopub.status.busy": "2024-03-24T07:19:23.798841Z",
     "iopub.status.idle": "2024-03-24T07:19:23.904909Z",
     "shell.execute_reply": "2024-03-24T07:19:23.904165Z"
    }
   },
   "outputs": [],
   "source": [
    "file_name = \"interactions.pkl\"\n",
    "file_path = os.path.join(data_path, file_name)\n",
    "interactions: pd.DataFrame = None # type: ignore\n",
    "if interactions is None:\n",
    "    interactions = pd.read_pickle(\n",
    "        file_path,\n",
    "    )\n",
    "assert interactions.shape[0] == interactions.groupby(['user_code', 'poll_code']).ngroups\n",
    "display(interactions.head())    "
   ]
  },
  {
   "cell_type": "code",
   "execution_count": null,
   "id": "70233718",
   "metadata": {
    "execution": {
     "iopub.execute_input": "2024-03-24T07:19:23.908014Z",
     "iopub.status.busy": "2024-03-24T07:19:23.907708Z",
     "iopub.status.idle": "2024-03-24T07:19:23.935044Z",
     "shell.execute_reply": "2024-03-24T07:19:23.933882Z"
    }
   },
   "outputs": [],
   "source": [
    "file_name = \"users.pkl\"\n",
    "file_path = os.path.join(data_path, file_name)\n",
    "users: pd.DataFrame = None # type: ignore\n",
    "if users is None:\n",
    "    users = pd.read_pickle(\n",
    "        file_path,\n",
    "    )\n",
    "assert users.shape[0] == users[\"user_code\"].nunique()    \n",
    "display(users.head())   "
   ]
  },
  {
   "cell_type": "code",
   "execution_count": null,
   "id": "0ddd12dd",
   "metadata": {
    "execution": {
     "iopub.execute_input": "2024-03-24T07:19:23.939948Z",
     "iopub.status.busy": "2024-03-24T07:19:23.939536Z",
     "iopub.status.idle": "2024-03-24T07:19:23.955797Z",
     "shell.execute_reply": "2024-03-24T07:19:23.955089Z"
    },
    "lines_to_next_cell": 2
   },
   "outputs": [],
   "source": [
    "file_name = \"polls.pkl\"\n",
    "file_path = os.path.join(data_path, file_name)\n",
    "polls: pd.DataFrame = None # type: ignore\n",
    "if polls is None:\n",
    "    polls = pd.read_pickle(\n",
    "        file_path,\n",
    "    )\n",
    "assert polls.shape[0] == polls[\"poll_code\"].nunique()    \n",
    "display(polls.head())   "
   ]
  },
  {
   "cell_type": "markdown",
   "id": "e69c3dbc",
   "metadata": {},
   "source": [
    "# Delete irrelevant users and polls"
   ]
  },
  {
   "cell_type": "markdown",
   "id": "49062dce",
   "metadata": {},
   "source": [
    "Users with 0% interactive polls are not relevant for our purpose because we can neither learn anything from them, nor use them in the test set. Same goes for polls with 0% interactive users. So, let's delete them."
   ]
  },
  {
   "cell_type": "code",
   "execution_count": null,
   "id": "ec08fc98",
   "metadata": {
    "execution": {
     "iopub.execute_input": "2024-03-24T07:19:23.959138Z",
     "iopub.status.busy": "2024-03-24T07:19:23.958874Z",
     "iopub.status.idle": "2024-03-24T07:19:23.965076Z",
     "shell.execute_reply": "2024-03-24T07:19:23.963967Z"
    }
   },
   "outputs": [],
   "source": [
    "users_with_zero_interactive_polls = users.loc[\n",
    "    users[\"has_no_interactive_polls\"], \"user_code\"\n",
    "].values\n",
    "print(\n",
    "    f\"Users with zero interactive polls: {len(users_with_zero_interactive_polls)} ({len(users_with_zero_interactive_polls)/users.shape[0]*100:.2f}%)\"\n",
    ")\n",
    "\n",
    "polls_with_zero_interactive_users = polls.loc[\n",
    "    polls[\"has_no_interactive_users\"], \"poll_code\"\n",
    "].values\n",
    "print(\n",
    "    f\"Polls with zero interactive users: {len(polls_with_zero_interactive_users)} ({len(polls_with_zero_interactive_users)/polls.shape[0]*100:.2f}%)\"\n",
    ")"
   ]
  },
  {
   "cell_type": "code",
   "execution_count": null,
   "id": "4246b702",
   "metadata": {
    "execution": {
     "iopub.execute_input": "2024-03-24T07:19:23.970793Z",
     "iopub.status.busy": "2024-03-24T07:19:23.970378Z",
     "iopub.status.idle": "2024-03-24T07:19:23.984779Z",
     "shell.execute_reply": "2024-03-24T07:19:23.983761Z"
    }
   },
   "outputs": [],
   "source": [
    "users = users[~users[\"has_no_interactive_polls\"]].copy().reset_index(drop=True)\n",
    "users.drop(columns=[\"has_no_interactive_polls\"], inplace=True)\n",
    "\n",
    "assert users.shape[0] == users[\"user_code\"].nunique()\n",
    "\n",
    "polls = polls[~polls[\"has_no_interactive_users\"]].copy().reset_index(drop=True)\n",
    "polls.drop(columns=[\"has_no_interactive_users\"], inplace=True)\n",
    "\n",
    "assert polls.shape[0] == polls[\"poll_code\"].nunique()\n",
    "\n",
    "n_polls = polls.shape[0]\n",
    "n_users = users.shape[0]\n",
    "\n",
    "print(f\"n_users: {n_users}\")\n",
    "print(f\"n_polls: {n_polls}\")"
   ]
  },
  {
   "cell_type": "code",
   "execution_count": null,
   "id": "5a0bd920",
   "metadata": {
    "execution": {
     "iopub.execute_input": "2024-03-24T07:19:23.989137Z",
     "iopub.status.busy": "2024-03-24T07:19:23.988837Z",
     "iopub.status.idle": "2024-03-24T07:19:24.004320Z",
     "shell.execute_reply": "2024-03-24T07:19:24.003294Z"
    }
   },
   "outputs": [],
   "source": [
    "is_non_interactive_user = interactions[\"user_code\"].isin(users_with_zero_interactive_polls)\n",
    "is_non_interactive_poll = interactions[\"poll_code\"].isin(polls_with_zero_interactive_users)\n",
    "\n",
    "is_non_interactive = is_non_interactive_user | is_non_interactive_poll\n",
    "\n",
    "print(\n",
    "    f\"User-poll interactions to be removed: {is_non_interactive.sum()} ({is_non_interactive.sum()/interactions.shape[0]*100:.2f}%)\"\n",
    ")"
   ]
  },
  {
   "cell_type": "code",
   "execution_count": null,
   "id": "6833fd2a",
   "metadata": {
    "execution": {
     "iopub.execute_input": "2024-03-24T07:19:24.007865Z",
     "iopub.status.busy": "2024-03-24T07:19:24.007358Z",
     "iopub.status.idle": "2024-03-24T07:19:24.054467Z",
     "shell.execute_reply": "2024-03-24T07:19:24.053652Z"
    }
   },
   "outputs": [],
   "source": [
    "rows_before = interactions.shape[0]\n",
    "interactions = interactions[~is_non_interactive].copy().reset_index(drop=True)\n",
    "rows_after = interactions.shape[0]\n",
    "assert rows_before - rows_after == is_non_interactive.sum()"
   ]
  },
  {
   "cell_type": "code",
   "execution_count": null,
   "id": "4e7e2f07",
   "metadata": {
    "execution": {
     "iopub.execute_input": "2024-03-24T07:19:24.058021Z",
     "iopub.status.busy": "2024-03-24T07:19:24.057731Z",
     "iopub.status.idle": "2024-03-24T07:19:24.087776Z",
     "shell.execute_reply": "2024-03-24T07:19:24.086986Z"
    }
   },
   "outputs": [],
   "source": [
    "assert set(set(interactions[\"user_code\"].unique())).issubset(set(users[\"user_code\"]))\n",
    "assert set(set(users[\"user_code\"])).issubset(set(interactions[\"user_code\"].unique()))\n",
    "\n",
    "assert set(set(interactions[\"poll_code\"].unique())).issubset(set(polls[\"poll_code\"]))\n",
    "assert set(set(polls[\"poll_code\"])).issubset(set(interactions[\"poll_code\"].unique()))"
   ]
  },
  {
   "cell_type": "markdown",
   "id": "365a39f8",
   "metadata": {},
   "source": [
    "## Concise Summary:"
   ]
  },
  {
   "cell_type": "code",
   "execution_count": null,
   "id": "09574f88",
   "metadata": {
    "execution": {
     "iopub.execute_input": "2024-03-24T07:19:24.092142Z",
     "iopub.status.busy": "2024-03-24T07:19:24.091870Z",
     "iopub.status.idle": "2024-03-24T07:19:24.262914Z",
     "shell.execute_reply": "2024-03-24T07:19:24.262089Z"
    }
   },
   "outputs": [],
   "source": [
    "print(f\"Total number of unique user-poll interactions: {interactions.shape[0]}\")\n",
    "print(\n",
    "    f\"\"\"\\nDistribution by event type:\\n{interactions[\"event\"].value_counts(dropna=False, normalize=True)}\"\"\"\n",
    ")\n",
    "n_polls = interactions[\"poll_code\"].nunique()\n",
    "n_users = interactions[\"user_code\"].nunique()\n",
    "print(f\"\\nn_users: {n_users}\")\n",
    "print(f\"n_polls: {n_polls}\")\n",
    "skim(\n",
    "    interactions.apply(lambda x: x.astype(\"category\") if x.dtype == \"object\" else x)\n",
    ")"
   ]
  },
  {
   "cell_type": "markdown",
   "id": "74898bcb",
   "metadata": {},
   "source": [
    "# Write"
   ]
  },
  {
   "cell_type": "code",
   "execution_count": null,
   "id": "cf98d1e0",
   "metadata": {
    "execution": {
     "iopub.execute_input": "2024-03-24T07:19:24.267237Z",
     "iopub.status.busy": "2024-03-24T07:19:24.266945Z",
     "iopub.status.idle": "2024-03-24T07:19:24.311947Z",
     "shell.execute_reply": "2024-03-24T07:19:24.311287Z"
    }
   },
   "outputs": [],
   "source": [
    "pd.to_pickle(interactions, os.path.join(data_path, \"interactions_relevant.pkl\"))\n",
    "pd.to_pickle(users, os.path.join(data_path, \"users_relevant.pkl\"))\n",
    "pd.to_pickle(polls, os.path.join(data_path, \"polls_relevant.pkl\"))"
   ]
  }
 ],
 "metadata": {
  "jupytext": {
   "cell_metadata_filter": "-all",
   "custom_cell_magics": "kql"
  },
  "kernelspec": {
   "display_name": "hunch_assignment",
   "language": "python",
   "name": "python3"
  },
  "language_info": {
   "codemirror_mode": {
    "name": "ipython",
    "version": 3
   },
   "file_extension": ".py",
   "mimetype": "text/x-python",
   "name": "python",
   "nbconvert_exporter": "python",
   "pygments_lexer": "ipython3",
   "version": "3.10.14"
  }
 },
 "nbformat": 4,
 "nbformat_minor": 5
}
