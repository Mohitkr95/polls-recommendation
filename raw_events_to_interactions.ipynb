{
 "cells": [
  {
   "cell_type": "markdown",
   "id": "3ebd2606",
   "metadata": {},
   "source": [
    "# Setup"
   ]
  },
  {
   "cell_type": "code",
   "execution_count": null,
   "id": "be9717fb",
   "metadata": {
    "execution": {
     "iopub.execute_input": "2024-03-24T07:19:09.862793Z",
     "iopub.status.busy": "2024-03-24T07:19:09.861934Z",
     "iopub.status.idle": "2024-03-24T07:19:11.749315Z",
     "shell.execute_reply": "2024-03-24T07:19:11.747888Z"
    },
    "lines_to_next_cell": 2
   },
   "outputs": [],
   "source": [
    "import os\n",
    "import matplotlib.pyplot as plt\n",
    "import numpy as np\n",
    "import pandas as pd\n",
    "from skimpy import skim\n",
    "import plotly.express as px\n",
    "import seaborn as sns\n",
    "from box import Box\n",
    "from fuzzywuzzy import fuzz, process\n",
    "from collections import defaultdict\n",
    "import pickle\n",
    "from itertools import product\n",
    "from pandarallel import pandarallel\n",
    "\n",
    "from mlops.utils import get_polls_data_from_interaction_data, get_users_data_from_interaction_data"
   ]
  },
  {
   "cell_type": "code",
   "execution_count": null,
   "id": "dd26605b",
   "metadata": {
    "execution": {
     "iopub.execute_input": "2024-03-24T07:19:11.753439Z",
     "iopub.status.busy": "2024-03-24T07:19:11.753065Z",
     "iopub.status.idle": "2024-03-24T07:19:11.756685Z",
     "shell.execute_reply": "2024-03-24T07:19:11.755977Z"
    }
   },
   "outputs": [],
   "source": [
    "from IPython.display import display\n",
    "\n",
    "\n",
    "pd.set_option(\"display.max_rows\", None)\n",
    "pd.set_option(\"display.max_columns\", None)"
   ]
  },
  {
   "cell_type": "code",
   "execution_count": null,
   "id": "85e3ca7c",
   "metadata": {
    "execution": {
     "iopub.execute_input": "2024-03-24T07:19:11.759292Z",
     "iopub.status.busy": "2024-03-24T07:19:11.759043Z",
     "iopub.status.idle": "2024-03-24T07:19:11.762299Z",
     "shell.execute_reply": "2024-03-24T07:19:11.761790Z"
    }
   },
   "outputs": [],
   "source": [
    "pandarallel.initialize()"
   ]
  },
  {
   "cell_type": "markdown",
   "id": "f14b6b88",
   "metadata": {},
   "source": [
    "# Read data"
   ]
  },
  {
   "cell_type": "code",
   "execution_count": null,
   "id": "52148b0d",
   "metadata": {
    "execution": {
     "iopub.execute_input": "2024-03-24T07:19:11.764699Z",
     "iopub.status.busy": "2024-03-24T07:19:11.764420Z",
     "iopub.status.idle": "2024-03-24T07:19:11.768352Z",
     "shell.execute_reply": "2024-03-24T07:19:11.767725Z"
    }
   },
   "outputs": [],
   "source": [
    "data_path = os.path.join(\"data\", \"prepared\")\n",
    "file_name = \"events.pkl\"\n",
    "file_path = os.path.join(data_path, file_name)"
   ]
  },
  {
   "cell_type": "code",
   "execution_count": null,
   "id": "e3f62ae1",
   "metadata": {
    "execution": {
     "iopub.execute_input": "2024-03-24T07:19:11.770713Z",
     "iopub.status.busy": "2024-03-24T07:19:11.770504Z",
     "iopub.status.idle": "2024-03-24T07:19:11.818853Z",
     "shell.execute_reply": "2024-03-24T07:19:11.818192Z"
    }
   },
   "outputs": [],
   "source": [
    "events: pd.DataFrame = None  # type: ignore\n",
    "if events is None:\n",
    "    events = pd.read_pickle(\n",
    "        file_path,\n",
    "    )"
   ]
  },
  {
   "cell_type": "code",
   "execution_count": null,
   "id": "5455edc9",
   "metadata": {
    "execution": {
     "iopub.execute_input": "2024-03-24T07:19:11.822293Z",
     "iopub.status.busy": "2024-03-24T07:19:11.821961Z",
     "iopub.status.idle": "2024-03-24T07:19:11.836469Z",
     "shell.execute_reply": "2024-03-24T07:19:11.835802Z"
    }
   },
   "outputs": [],
   "source": [
    "display(events.head())"
   ]
  },
  {
   "cell_type": "code",
   "execution_count": null,
   "id": "695345b3",
   "metadata": {
    "execution": {
     "iopub.execute_input": "2024-03-24T07:19:11.839170Z",
     "iopub.status.busy": "2024-03-24T07:19:11.838937Z",
     "iopub.status.idle": "2024-03-24T07:19:12.060614Z",
     "shell.execute_reply": "2024-03-24T07:19:12.059766Z"
    },
    "lines_to_next_cell": 2
   },
   "outputs": [],
   "source": [
    "skim(events.apply(lambda x: x.astype(\"category\") if x.dtype == \"object\" else x))"
   ]
  },
  {
   "cell_type": "markdown",
   "id": "239c879e",
   "metadata": {},
   "source": [
    "# Assign score per event"
   ]
  },
  {
   "cell_type": "code",
   "execution_count": null,
   "id": "587f361e",
   "metadata": {
    "execution": {
     "iopub.execute_input": "2024-03-24T07:19:12.063443Z",
     "iopub.status.busy": "2024-03-24T07:19:12.063195Z",
     "iopub.status.idle": "2024-03-24T07:19:12.077776Z",
     "shell.execute_reply": "2024-03-24T07:19:12.076983Z"
    },
    "lines_to_next_cell": 2
   },
   "outputs": [],
   "source": [
    "event_score_dict = {\"Impression\": 0, \"Expand\": 1, \"Polls Answered\": 2, \"Shares\": 3}\n",
    "events[\"event_score\"] = events[\"event\"].map(event_score_dict)"
   ]
  },
  {
   "cell_type": "markdown",
   "id": "f88b29e3",
   "metadata": {},
   "source": [
    "# Get Users data"
   ]
  },
  {
   "cell_type": "code",
   "execution_count": null,
   "id": "1860eb51",
   "metadata": {
    "execution": {
     "iopub.execute_input": "2024-03-24T07:19:12.081038Z",
     "iopub.status.busy": "2024-03-24T07:19:12.080690Z",
     "iopub.status.idle": "2024-03-24T07:19:17.338253Z",
     "shell.execute_reply": "2024-03-24T07:19:17.337371Z"
    }
   },
   "outputs": [],
   "source": [
    "users = get_users_data_from_interaction_data(events.copy())"
   ]
  },
  {
   "cell_type": "code",
   "execution_count": null,
   "id": "35182c54",
   "metadata": {
    "execution": {
     "iopub.execute_input": "2024-03-24T07:19:17.341479Z",
     "iopub.status.busy": "2024-03-24T07:19:17.341250Z",
     "iopub.status.idle": "2024-03-24T07:19:17.356983Z",
     "shell.execute_reply": "2024-03-24T07:19:17.356180Z"
    }
   },
   "outputs": [],
   "source": [
    "display(users.head())"
   ]
  },
  {
   "cell_type": "code",
   "execution_count": null,
   "id": "02c512db",
   "metadata": {
    "execution": {
     "iopub.execute_input": "2024-03-24T07:19:17.360183Z",
     "iopub.status.busy": "2024-03-24T07:19:17.359720Z",
     "iopub.status.idle": "2024-03-24T07:19:17.369237Z",
     "shell.execute_reply": "2024-03-24T07:19:17.368618Z"
    }
   },
   "outputs": [],
   "source": [
    "temp = users[\"n_interactive_polls\"].value_counts(sort=False).sort_index()\n",
    "print(\n",
    "    f\"\"\"Users with no interactions, just impressions: {temp[0]} ({(temp[0] / users.shape[0] * 100):.2f}%)\"\"\"\n",
    ")\n",
    "\n",
    "temp = users[\"n_polls\"].value_counts(sort=False).sort_index()\n",
    "print(f\"\"\"Users with just 1 poll: {temp[1]} ({(temp[1] / users.shape[0] * 100):.2f}%)\"\"\")\n",
    "\n",
    "\n",
    "print(\n",
    "    f\"\"\"Users with no useful location data: {users[\"has_no_useful_location_data\"] .sum()} ({(users[\"has_no_useful_location_data\"] .sum() / users.shape[0] * 100):.2f}%)\"\"\"\n",
    ")\n",
    "\n",
    "\n",
    "print(\n",
    "    f\"\"\"Users with no useful identity data: {users[\"has_no_useful_identity_data\"].sum()} ({(users[\"has_no_useful_identity_data\"].sum() / users.shape[0] * 100):.2f}%)\"\"\"\n",
    ")\n",
    "\n",
    "print(\n",
    "    f\"\"\"Users with no useful user data: {users[\"has_no_useful_user_data\"].sum()} ({(users[\"has_no_useful_user_data\"].sum() / users.shape[0] * 100):.2f}%)\"\"\"\n",
    ")"
   ]
  },
  {
   "cell_type": "code",
   "execution_count": null,
   "id": "9f4728d6",
   "metadata": {
    "execution": {
     "iopub.execute_input": "2024-03-24T07:19:17.372020Z",
     "iopub.status.busy": "2024-03-24T07:19:17.371783Z",
     "iopub.status.idle": "2024-03-24T07:19:17.512470Z",
     "shell.execute_reply": "2024-03-24T07:19:17.511780Z"
    }
   },
   "outputs": [],
   "source": [
    "skim(users.apply(lambda x: x.astype(\"category\") if x.dtype == \"object\" else x))"
   ]
  },
  {
   "cell_type": "code",
   "execution_count": null,
   "id": "15420c79",
   "metadata": {
    "execution": {
     "iopub.execute_input": "2024-03-24T07:19:17.515076Z",
     "iopub.status.busy": "2024-03-24T07:19:17.514860Z",
     "iopub.status.idle": "2024-03-24T07:19:17.535161Z",
     "shell.execute_reply": "2024-03-24T07:19:17.534283Z"
    }
   },
   "outputs": [],
   "source": [
    "for col in [\"country\", \"city_code\", \"gender\", \"college_code\"]:\n",
    "    counts = users[col].value_counts(dropna=True, normalize=True).reset_index()\n",
    "    counts[\"proportion_cumulative\"] = counts[\"proportion\"].cumsum().div(counts[\"proportion\"].sum())\n",
    "    index = (\n",
    "        counts.loc[counts[\"proportion_cumulative\"] > 0.9, \"proportion_cumulative\"].idxmin()\n",
    "    ) + 1\n",
    "    index = max(index, 5)\n",
    "    print(f\"\\n{counts.iloc[0:index, 0:2]}\")"
   ]
  },
  {
   "cell_type": "code",
   "execution_count": null,
   "id": "02fcccba",
   "metadata": {
    "execution": {
     "iopub.execute_input": "2024-03-24T07:19:17.538467Z",
     "iopub.status.busy": "2024-03-24T07:19:17.537992Z",
     "iopub.status.idle": "2024-03-24T07:19:17.558021Z",
     "shell.execute_reply": "2024-03-24T07:19:17.557502Z"
    }
   },
   "outputs": [],
   "source": [
    "for col in [\n",
    "    \"age\",\n",
    "    \"n_polls\",\n",
    "    \"n_interactive_polls_proportion\",\n",
    "    \"event_score_by_user_per_interactive_poll\",\n",
    "]:\n",
    "    display(\n",
    "        users[col].describe(\n",
    "            percentiles=np.concatenate(\n",
    "                [\n",
    "                    np.arange(0.01, 0.06, 0.01),\n",
    "                    [0.1],\n",
    "                    np.arange(0.25, 0.8, 0.25),\n",
    "                    [0.9],\n",
    "                    np.arange(0.95, 0.99, 0.01),\n",
    "                ]\n",
    "            )\n",
    "        )\n",
    "    )"
   ]
  },
  {
   "cell_type": "markdown",
   "id": "738abdf6",
   "metadata": {},
   "source": [
    "### Binning Age"
   ]
  },
  {
   "cell_type": "code",
   "execution_count": null,
   "id": "fb63b0b7",
   "metadata": {
    "execution": {
     "iopub.execute_input": "2024-03-24T07:19:17.560749Z",
     "iopub.status.busy": "2024-03-24T07:19:17.560451Z",
     "iopub.status.idle": "2024-03-24T07:19:17.566098Z",
     "shell.execute_reply": "2024-03-24T07:19:17.564873Z"
    }
   },
   "outputs": [],
   "source": [
    "is_younger_than_teen = users[\"age\"] < 13\n",
    "is_older_than_40 = users[\"age\"] > 40\n",
    "\n",
    "is_invalid_age = is_younger_than_teen | is_older_than_40\n",
    "\n",
    "users[\"age\"] = users[\"age\"].where(~is_invalid_age)"
   ]
  },
  {
   "cell_type": "code",
   "execution_count": null,
   "id": "6f871466",
   "metadata": {
    "execution": {
     "iopub.execute_input": "2024-03-24T07:19:17.570289Z",
     "iopub.status.busy": "2024-03-24T07:19:17.569982Z",
     "iopub.status.idle": "2024-03-24T07:19:17.579710Z",
     "shell.execute_reply": "2024-03-24T07:19:17.579115Z"
    }
   },
   "outputs": [],
   "source": [
    "users[\"age\"].describe(\n",
    "    percentiles=np.concatenate(\n",
    "        [\n",
    "            np.arange(0.01, 0.06, 0.01),\n",
    "            [0.1],\n",
    "            np.arange(0.25, 0.8, 0.25),\n",
    "            [0.9],\n",
    "            np.arange(0.95, 0.99, 0.01),\n",
    "        ]\n",
    "    )\n",
    ")"
   ]
  },
  {
   "cell_type": "code",
   "execution_count": null,
   "id": "5452a880",
   "metadata": {
    "execution": {
     "iopub.execute_input": "2024-03-24T07:19:17.584056Z",
     "iopub.status.busy": "2024-03-24T07:19:17.583503Z",
     "iopub.status.idle": "2024-03-24T07:19:17.591824Z",
     "shell.execute_reply": "2024-03-24T07:19:17.591228Z"
    }
   },
   "outputs": [],
   "source": [
    "bins = [0, 16, 18, 22, 25, 30, 40]\n",
    "labels = [f\"({bins[i]}-{bins[i+1]}]\" for i in range(len(bins) - 1)]\n",
    "print(labels)\n",
    "users[\"age_binned\"] = pd.cut(\n",
    "    users[\"age\"], bins=bins, labels=labels, right=True, include_lowest=False\n",
    ").astype(\"object\")"
   ]
  },
  {
   "cell_type": "code",
   "execution_count": null,
   "id": "40081ecf",
   "metadata": {
    "execution": {
     "iopub.execute_input": "2024-03-24T07:19:17.594179Z",
     "iopub.status.busy": "2024-03-24T07:19:17.593952Z",
     "iopub.status.idle": "2024-03-24T07:19:17.601094Z",
     "shell.execute_reply": "2024-03-24T07:19:17.600277Z"
    }
   },
   "outputs": [],
   "source": [
    "users[\"age_binned\"].value_counts(dropna=True, normalize=True)"
   ]
  },
  {
   "cell_type": "markdown",
   "id": "6c1cc8e9",
   "metadata": {},
   "source": [
    "### Reduce no. of city and college codes"
   ]
  },
  {
   "cell_type": "markdown",
   "id": "c651cd1e",
   "metadata": {},
   "source": [
    "Note: College already has \"Other\""
   ]
  },
  {
   "cell_type": "code",
   "execution_count": null,
   "id": "4b8d780f",
   "metadata": {
    "execution": {
     "iopub.execute_input": "2024-03-24T07:19:17.603790Z",
     "iopub.status.busy": "2024-03-24T07:19:17.603522Z",
     "iopub.status.idle": "2024-03-24T07:19:17.639474Z",
     "shell.execute_reply": "2024-03-24T07:19:17.638725Z"
    }
   },
   "outputs": [],
   "source": [
    "min_code_proportion = 0.01\n",
    "for col in [\"city_code\", \"college_code\"]:\n",
    "    code_propoptions = users[col].value_counts(dropna=True, normalize=True)\n",
    "    codes_to_replace = code_propoptions[code_propoptions < min_code_proportion].index\n",
    "    users[col + \"_trimmed\"] = users[col].replace(codes_to_replace, \"Other\").copy()\n",
    "    print(users[col + \"_trimmed\"].value_counts(dropna=True, normalize=True))"
   ]
  },
  {
   "cell_type": "markdown",
   "id": "7b09c5c6",
   "metadata": {},
   "source": [
    "### Fill missing"
   ]
  },
  {
   "cell_type": "code",
   "execution_count": null,
   "id": "7cdc9ecc",
   "metadata": {
    "execution": {
     "iopub.execute_input": "2024-03-24T07:19:17.642182Z",
     "iopub.status.busy": "2024-03-24T07:19:17.641960Z",
     "iopub.status.idle": "2024-03-24T07:19:17.646454Z",
     "shell.execute_reply": "2024-03-24T07:19:17.645746Z"
    }
   },
   "outputs": [],
   "source": [
    "users[\"country_filled\"] = users[\"country\"].copy()\n",
    "users[\"gender_filled\"] = users[\"gender\"].copy()"
   ]
  },
  {
   "cell_type": "code",
   "execution_count": null,
   "id": "7b2b90d1",
   "metadata": {
    "execution": {
     "iopub.execute_input": "2024-03-24T07:19:17.648907Z",
     "iopub.status.busy": "2024-03-24T07:19:17.648596Z",
     "iopub.status.idle": "2024-03-24T07:19:17.655096Z",
     "shell.execute_reply": "2024-03-24T07:19:17.654542Z"
    },
    "lines_to_next_cell": 2
   },
   "outputs": [],
   "source": [
    "for col in [\n",
    "    \"country_filled\",\n",
    "    \"gender_filled\",\n",
    "    \"age_binned\",\n",
    "    \"city_code_trimmed\",\n",
    "    \"college_code_trimmed\",\n",
    "]:\n",
    "    users[col].fillna(\"Missing\", inplace=True)"
   ]
  },
  {
   "cell_type": "markdown",
   "id": "9148d9c7",
   "metadata": {},
   "source": [
    "# Get Polls data"
   ]
  },
  {
   "cell_type": "code",
   "execution_count": null,
   "id": "1f15ff30",
   "metadata": {
    "execution": {
     "iopub.execute_input": "2024-03-24T07:19:17.657588Z",
     "iopub.status.busy": "2024-03-24T07:19:17.657300Z",
     "iopub.status.idle": "2024-03-24T07:19:18.711740Z",
     "shell.execute_reply": "2024-03-24T07:19:18.710942Z"
    }
   },
   "outputs": [],
   "source": [
    "polls = get_polls_data_from_interaction_data(events.copy())"
   ]
  },
  {
   "cell_type": "code",
   "execution_count": null,
   "id": "81d214eb",
   "metadata": {
    "execution": {
     "iopub.execute_input": "2024-03-24T07:19:18.714968Z",
     "iopub.status.busy": "2024-03-24T07:19:18.714721Z",
     "iopub.status.idle": "2024-03-24T07:19:18.725952Z",
     "shell.execute_reply": "2024-03-24T07:19:18.725429Z"
    }
   },
   "outputs": [],
   "source": [
    "display(polls.head())"
   ]
  },
  {
   "cell_type": "code",
   "execution_count": null,
   "id": "b20576c2",
   "metadata": {
    "execution": {
     "iopub.execute_input": "2024-03-24T07:19:18.728353Z",
     "iopub.status.busy": "2024-03-24T07:19:18.728140Z",
     "iopub.status.idle": "2024-03-24T07:19:18.814795Z",
     "shell.execute_reply": "2024-03-24T07:19:18.813672Z"
    }
   },
   "outputs": [],
   "source": [
    "skim(polls.apply(lambda x: x.astype(\"category\") if x.dtype == \"object\" else x))"
   ]
  },
  {
   "cell_type": "code",
   "execution_count": null,
   "id": "6cc19433",
   "metadata": {
    "execution": {
     "iopub.execute_input": "2024-03-24T07:19:18.818966Z",
     "iopub.status.busy": "2024-03-24T07:19:18.818724Z",
     "iopub.status.idle": "2024-03-24T07:19:18.833590Z",
     "shell.execute_reply": "2024-03-24T07:19:18.833062Z"
    }
   },
   "outputs": [],
   "source": [
    "for col in [\n",
    "    \"n_users\",\n",
    "    \"n_interactive_users_proportion\",\n",
    "    \"event_score_by_poll_per_interactive_user\",\n",
    "]:\n",
    "    display(\n",
    "        polls[col].describe(\n",
    "            percentiles=np.concatenate(\n",
    "                [\n",
    "                    np.arange(0.01, 0.06, 0.01),\n",
    "                    [0.1],\n",
    "                    np.arange(0.25, 0.8, 0.25),\n",
    "                    [0.9],\n",
    "                    np.arange(0.95, 0.99, 0.01),\n",
    "                ]\n",
    "            )\n",
    "        )\n",
    "    )"
   ]
  },
  {
   "cell_type": "markdown",
   "id": "4fb9061d",
   "metadata": {},
   "source": [
    "## Collapse event types"
   ]
  },
  {
   "cell_type": "code",
   "execution_count": null,
   "id": "bf989180",
   "metadata": {
    "execution": {
     "iopub.execute_input": "2024-03-24T07:19:18.836428Z",
     "iopub.status.busy": "2024-03-24T07:19:18.836139Z",
     "iopub.status.idle": "2024-03-24T07:19:18.915293Z",
     "shell.execute_reply": "2024-03-24T07:19:18.914464Z"
    }
   },
   "outputs": [],
   "source": [
    "events.sort_values([\"event_score\"], inplace=True)\n",
    "\n",
    "is_same_user_poll = events.duplicated(subset=[\"user_code\", \"poll_code\"], keep=\"last\")\n",
    "\n",
    "print(\n",
    "    f\"No. of different events for same user-poll to be collapsed: {is_same_user_poll.sum()} ({is_same_user_poll.sum()/events.shape[0]*100:.2f}%)\"\n",
    ")"
   ]
  },
  {
   "cell_type": "code",
   "execution_count": null,
   "id": "435bde6b",
   "metadata": {
    "execution": {
     "iopub.execute_input": "2024-03-24T07:19:18.918288Z",
     "iopub.status.busy": "2024-03-24T07:19:18.918004Z",
     "iopub.status.idle": "2024-03-24T07:19:18.983118Z",
     "shell.execute_reply": "2024-03-24T07:19:18.981172Z"
    }
   },
   "outputs": [],
   "source": [
    "interactions = events[~is_same_user_poll].copy().reset_index(drop=True)\n",
    "assert interactions.shape[0] == interactions.groupby([\"poll_code\", \"user_code\"]).ngroups\n",
    "primary_key = [\"user_code\", \"poll_code\"]"
   ]
  },
  {
   "cell_type": "code",
   "execution_count": null,
   "id": "c148046a",
   "metadata": {
    "execution": {
     "iopub.execute_input": "2024-03-24T07:19:18.986442Z",
     "iopub.status.busy": "2024-03-24T07:19:18.986230Z",
     "iopub.status.idle": "2024-03-24T07:19:19.131855Z",
     "shell.execute_reply": "2024-03-24T07:19:19.130997Z"
    }
   },
   "outputs": [],
   "source": [
    "skim(interactions.apply(lambda x: x.astype(\"category\") if x.dtype == \"object\" else x))"
   ]
  },
  {
   "cell_type": "markdown",
   "id": "86978d6c",
   "metadata": {},
   "source": [
    "# Write"
   ]
  },
  {
   "cell_type": "code",
   "execution_count": null,
   "id": "1f38cb5b",
   "metadata": {
    "execution": {
     "iopub.execute_input": "2024-03-24T07:19:19.135544Z",
     "iopub.status.busy": "2024-03-24T07:19:19.135240Z",
     "iopub.status.idle": "2024-03-24T07:19:19.185511Z",
     "shell.execute_reply": "2024-03-24T07:19:19.184706Z"
    }
   },
   "outputs": [],
   "source": [
    "pd.to_pickle(interactions, os.path.join(data_path, \"interactions.pkl\"))\n",
    "pd.to_pickle(users, os.path.join(data_path, \"users.pkl\"))\n",
    "pd.to_pickle(polls, os.path.join(data_path, \"polls.pkl\"))"
   ]
  }
 ],
 "metadata": {
  "jupytext": {
   "cell_metadata_filter": "-all",
   "custom_cell_magics": "kql"
  },
  "kernelspec": {
   "display_name": "hunch_assignment",
   "language": "python",
   "name": "python3"
  },
  "language_info": {
   "codemirror_mode": {
    "name": "ipython",
    "version": 3
   },
   "file_extension": ".py",
   "mimetype": "text/x-python",
   "name": "python",
   "nbconvert_exporter": "python",
   "pygments_lexer": "ipython3",
   "version": "3.10.14"
  }
 },
 "nbformat": 4,
 "nbformat_minor": 5
}
